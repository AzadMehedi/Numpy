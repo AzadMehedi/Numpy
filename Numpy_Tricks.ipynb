{
  "nbformat": 4,
  "nbformat_minor": 0,
  "metadata": {
    "colab": {
      "provenance": [],
      "authorship_tag": "ABX9TyOgaQg7ijNbyJ4kp2EIRzLm",
      "include_colab_link": true
    },
    "kernelspec": {
      "name": "python3",
      "display_name": "Python 3"
    },
    "language_info": {
      "name": "python"
    }
  },
  "cells": [
    {
      "cell_type": "markdown",
      "metadata": {
        "id": "view-in-github",
        "colab_type": "text"
      },
      "source": [
        "<a href=\"https://colab.research.google.com/github/AzadMehedi/Numpy/blob/main/Numpy_Tricks.ipynb\" target=\"_parent\"><img src=\"https://colab.research.google.com/assets/colab-badge.svg\" alt=\"Open In Colab\"/></a>"
      ]
    },
    {
      "cell_type": "markdown",
      "source": [
        "# np.sort\n",
        "\n",
        "Return a sorted copy of an array.\n",
        "\n",
        "https://numpy.org/doc/stable/reference/generated/numpy.sort.html"
      ],
      "metadata": {
        "id": "FalpizRHIKI6"
      }
    },
    {
      "cell_type": "code",
      "execution_count": 1,
      "metadata": {
        "colab": {
          "base_uri": "https://localhost:8080/"
        },
        "id": "AMomdp4yIHx4",
        "outputId": "f347ac64-586a-4e11-a2ee-fe8934ed33ff"
      },
      "outputs": [
        {
          "output_type": "execute_result",
          "data": {
            "text/plain": [
              "array([43, 82,  8, 40, 60, 93, 91, 22, 37, 65, 32, 50, 95, 15,  8])"
            ]
          },
          "metadata": {},
          "execution_count": 1
        }
      ],
      "source": [
        "# code\n",
        "import numpy as np\n",
        "a = np.random.randint(1,100,15)\n",
        "a"
      ]
    },
    {
      "cell_type": "code",
      "source": [
        "# sort\n",
        "np.sort(a)"
      ],
      "metadata": {
        "colab": {
          "base_uri": "https://localhost:8080/"
        },
        "id": "AXhM-Fw2IrsA",
        "outputId": "9f89bce2-9377-477e-ab09-ee7bec995a5f"
      },
      "execution_count": 2,
      "outputs": [
        {
          "output_type": "execute_result",
          "data": {
            "text/plain": [
              "array([ 8,  8, 15, 22, 32, 37, 40, 43, 50, 60, 65, 82, 91, 93, 95])"
            ]
          },
          "metadata": {},
          "execution_count": 2
        }
      ]
    },
    {
      "cell_type": "code",
      "source": [
        "# decending order sort \n",
        "np.sort(a)[::-1]"
      ],
      "metadata": {
        "colab": {
          "base_uri": "https://localhost:8080/"
        },
        "id": "pOhjaMM5Kd7H",
        "outputId": "4d974884-c775-4434-a86a-7e122fd22563"
      },
      "execution_count": 6,
      "outputs": [
        {
          "output_type": "execute_result",
          "data": {
            "text/plain": [
              "array([95, 93, 91, 82, 65, 60, 50, 43, 40, 37, 32, 22, 15,  8,  8])"
            ]
          },
          "metadata": {},
          "execution_count": 6
        }
      ]
    },
    {
      "cell_type": "code",
      "source": [
        "b = np.random.randint(1,100, 24).reshape(6,4)\n",
        "b"
      ],
      "metadata": {
        "colab": {
          "base_uri": "https://localhost:8080/"
        },
        "id": "r054phKjJbxO",
        "outputId": "fa9501f0-d1c5-4abb-f09b-b906dbc489d3"
      },
      "execution_count": 7,
      "outputs": [
        {
          "output_type": "execute_result",
          "data": {
            "text/plain": [
              "array([[90, 82, 48, 83],\n",
              "       [49, 38, 51, 88],\n",
              "       [29, 95, 62, 44],\n",
              "       [38,  3, 80, 60],\n",
              "       [88, 31, 20, 70],\n",
              "       [60,  4, 46, 97]])"
            ]
          },
          "metadata": {},
          "execution_count": 7
        }
      ]
    },
    {
      "cell_type": "code",
      "source": [
        "# row wise sorting -> (axis=1) . its default\n",
        "np.sort(b)"
      ],
      "metadata": {
        "colab": {
          "base_uri": "https://localhost:8080/"
        },
        "id": "QUGzjZLKJmRl",
        "outputId": "41429f55-5a38-4773-f106-a1478c9b470c"
      },
      "execution_count": 8,
      "outputs": [
        {
          "output_type": "execute_result",
          "data": {
            "text/plain": [
              "array([[48, 82, 83, 90],\n",
              "       [38, 49, 51, 88],\n",
              "       [29, 44, 62, 95],\n",
              "       [ 3, 38, 60, 80],\n",
              "       [20, 31, 70, 88],\n",
              "       [ 4, 46, 60, 97]])"
            ]
          },
          "metadata": {},
          "execution_count": 8
        }
      ]
    },
    {
      "cell_type": "code",
      "source": [
        "# column wise sorting -> (axis=0) . its default\n",
        "np.sort(b, axis=0)"
      ],
      "metadata": {
        "colab": {
          "base_uri": "https://localhost:8080/"
        },
        "id": "XS7WKdeGJn1X",
        "outputId": "7711f8b6-dc2d-45b3-8617-e98964b33577"
      },
      "execution_count": 11,
      "outputs": [
        {
          "output_type": "execute_result",
          "data": {
            "text/plain": [
              "array([[29,  3, 20, 44],\n",
              "       [38,  4, 46, 60],\n",
              "       [49, 31, 48, 70],\n",
              "       [60, 38, 51, 83],\n",
              "       [88, 82, 62, 88],\n",
              "       [90, 95, 80, 97]])"
            ]
          },
          "metadata": {},
          "execution_count": 11
        }
      ]
    },
    {
      "cell_type": "markdown",
      "source": [
        "# np.append\n",
        "The numpy.append() appends values along the mentioned axis at the end of the array\n",
        "\n",
        "https://numpy.org/doc/stable/reference/generated/numpy.append.html"
      ],
      "metadata": {
        "id": "t435AbMfLkdY"
      }
    },
    {
      "cell_type": "code",
      "source": [
        "a = np.random.randint(1,100,15)\n",
        "np.append(a, 500)"
      ],
      "metadata": {
        "colab": {
          "base_uri": "https://localhost:8080/"
        },
        "id": "P_XmdLJ6KOnz",
        "outputId": "e3384013-0649-4c82-e3fa-bc48017f7135"
      },
      "execution_count": 13,
      "outputs": [
        {
          "output_type": "execute_result",
          "data": {
            "text/plain": [
              "array([ 53,  73,  13,  97,  68,  22,  62,  76,  46,  27,  23,  65,  70,\n",
              "        87,  53, 500])"
            ]
          },
          "metadata": {},
          "execution_count": 13
        }
      ]
    },
    {
      "cell_type": "code",
      "source": [
        "# append a new col\n",
        "b = np.random.randint(1,100, 24).reshape(6,4)\n",
        "np.append(b,np.ones((b.shape[0],1)), axis=1)\n",
        "# np.append(b,np.random.random((b.shape[0],1)), axis=1)\n"
      ],
      "metadata": {
        "colab": {
          "base_uri": "https://localhost:8080/"
        },
        "id": "o9AGiQ1iLt0T",
        "outputId": "235a5da2-1ce7-4e18-b6f3-cb5824fc1eca"
      },
      "execution_count": 16,
      "outputs": [
        {
          "output_type": "execute_result",
          "data": {
            "text/plain": [
              "array([[20., 92., 50., 13.,  1.],\n",
              "       [77., 64., 14., 44.,  1.],\n",
              "       [60., 63., 62., 22.,  1.],\n",
              "       [28., 27., 78., 27.,  1.],\n",
              "       [83., 38., 94., 44.,  1.],\n",
              "       [93., 42., 89., 69.,  1.]])"
            ]
          },
          "metadata": {},
          "execution_count": 16
        }
      ]
    },
    {
      "cell_type": "markdown",
      "source": [
        "# np.concatenate\n",
        "numpy.concatenate() function concatenate a sequence of arrays along an existing axis.\n",
        "\n",
        "https://numpy.org/doc/stable/reference/generated/numpy.concatenate.html"
      ],
      "metadata": {
        "id": "w2GUpvGAMpsk"
      }
    },
    {
      "cell_type": "code",
      "source": [
        "c = np.arange(6).reshape(2,3)\n",
        "d = np.arange(6,12).reshape(2,3)\n",
        "\n",
        "print(c)\n",
        "print(d)"
      ],
      "metadata": {
        "colab": {
          "base_uri": "https://localhost:8080/"
        },
        "id": "djQs2prcMNYN",
        "outputId": "5c90f9e7-07e4-4aa3-fc64-86dc8dba1e57"
      },
      "execution_count": 19,
      "outputs": [
        {
          "output_type": "stream",
          "name": "stdout",
          "text": [
            "[[0 1 2]\n",
            " [3 4 5]]\n",
            "[[ 6  7  8]\n",
            " [ 9 10 11]]\n"
          ]
        }
      ]
    },
    {
      "cell_type": "code",
      "source": [
        "# vertical concatenate -> 0-> column wise\n",
        "np.concatenate((c,d), axis=0)"
      ],
      "metadata": {
        "colab": {
          "base_uri": "https://localhost:8080/"
        },
        "id": "Kobgp3-dM4gn",
        "outputId": "51bc76dc-ef61-48d4-c4ee-1303fafbd669"
      },
      "execution_count": 20,
      "outputs": [
        {
          "output_type": "execute_result",
          "data": {
            "text/plain": [
              "array([[ 0,  1,  2],\n",
              "       [ 3,  4,  5],\n",
              "       [ 6,  7,  8],\n",
              "       [ 9, 10, 11]])"
            ]
          },
          "metadata": {},
          "execution_count": 20
        }
      ]
    },
    {
      "cell_type": "code",
      "source": [
        "# horizontal concatenate -> 1-> row wise\n",
        "np.concatenate((c,d), axis=1)"
      ],
      "metadata": {
        "colab": {
          "base_uri": "https://localhost:8080/"
        },
        "id": "4ArjGVHKNaQA",
        "outputId": "264da537-72ef-478d-85fe-88383930c72b"
      },
      "execution_count": 24,
      "outputs": [
        {
          "output_type": "execute_result",
          "data": {
            "text/plain": [
              "array([[ 0,  1,  2,  6,  7,  8],\n",
              "       [ 3,  4,  5,  9, 10, 11]])"
            ]
          },
          "metadata": {},
          "execution_count": 24
        }
      ]
    },
    {
      "cell_type": "markdown",
      "source": [
        "# np.unique\n",
        "With the help of np.unique() method, we can get the unique values from an array given as parameter in np.unique() method.\n",
        "\n",
        "https://numpy.org/doc/stable/reference/generated/numpy.unique.html/"
      ],
      "metadata": {
        "id": "MMv5fSfGNuOL"
      }
    },
    {
      "cell_type": "code",
      "source": [
        "e = np.array([1,1,2,2,3,3,4,4,5,5,6,6])\n",
        "np.unique(e)"
      ],
      "metadata": {
        "colab": {
          "base_uri": "https://localhost:8080/"
        },
        "id": "xJ2V8VQYNkTa",
        "outputId": "0e93c518-9bc3-4e5a-e1aa-b673ad1a3beb"
      },
      "execution_count": 25,
      "outputs": [
        {
          "output_type": "execute_result",
          "data": {
            "text/plain": [
              "array([1, 2, 3, 4, 5, 6])"
            ]
          },
          "metadata": {},
          "execution_count": 25
        }
      ]
    },
    {
      "cell_type": "markdown",
      "source": [
        "# np.expand_dims\n",
        "With the help of Numpy.expand_dims() method, we can get the expanded dimensions of an array\n",
        "\n",
        "https://numpy.org/doc/stable/reference/generated/numpy.expand_dims.html"
      ],
      "metadata": {
        "id": "EgMPffjTOif2"
      }
    },
    {
      "cell_type": "code",
      "source": [
        "a"
      ],
      "metadata": {
        "colab": {
          "base_uri": "https://localhost:8080/"
        },
        "id": "IwkxUS6oOScM",
        "outputId": "63f4ac24-62b9-46cd-f616-83e4d22c9bb9"
      },
      "execution_count": 26,
      "outputs": [
        {
          "output_type": "execute_result",
          "data": {
            "text/plain": [
              "array([53, 73, 13, 97, 68, 22, 62, 76, 46, 27, 23, 65, 70, 87, 53])"
            ]
          },
          "metadata": {},
          "execution_count": 26
        }
      ]
    },
    {
      "cell_type": "code",
      "source": [
        "np.expand_dims(a, axis=0)   # 0->column\n",
        "# np.expand_dims(a, axis=0).shape   \n"
      ],
      "metadata": {
        "colab": {
          "base_uri": "https://localhost:8080/"
        },
        "id": "My5P_6hQRur-",
        "outputId": "c6f5872b-e241-46a1-e465-0c862aa1f124"
      },
      "execution_count": 29,
      "outputs": [
        {
          "output_type": "stream",
          "name": "stdout",
          "text": [
            "(1, 15)\n"
          ]
        }
      ]
    },
    {
      "cell_type": "code",
      "source": [
        "np.expand_dims(a, axis=1)\n",
        "# np.expand_dims(a, axis=1).shape   \n",
        "\n"
      ],
      "metadata": {
        "colab": {
          "base_uri": "https://localhost:8080/"
        },
        "id": "hrPLEXd5R0Nr",
        "outputId": "15629745-c799-44f1-d33b-1437ce9ceeaf"
      },
      "execution_count": 30,
      "outputs": [
        {
          "output_type": "execute_result",
          "data": {
            "text/plain": [
              "(15, 1)"
            ]
          },
          "metadata": {},
          "execution_count": 30
        }
      ]
    },
    {
      "cell_type": "markdown",
      "source": [
        "# np.where\n",
        "The numpy.where() function returns the indices of elements in an input array where the given condition is satisfied.\n",
        "\n",
        "https://numpy.org/doc/stable/reference/generated/numpy.where.html"
      ],
      "metadata": {
        "id": "npLLANxdScCQ"
      }
    },
    {
      "cell_type": "code",
      "source": [
        "a"
      ],
      "metadata": {
        "colab": {
          "base_uri": "https://localhost:8080/"
        },
        "id": "C39oFswDZ35q",
        "outputId": "e62baefe-09f4-4d37-bdc3-2512c70c0983"
      },
      "execution_count": 33,
      "outputs": [
        {
          "output_type": "execute_result",
          "data": {
            "text/plain": [
              "array([53, 73, 13, 97, 68, 22, 62, 76, 46, 27, 23, 65, 70, 87, 53])"
            ]
          },
          "metadata": {},
          "execution_count": 33
        }
      ]
    },
    {
      "cell_type": "code",
      "source": [
        " # find all indices with value greater than 50\n",
        "np.where(a>50)"
      ],
      "metadata": {
        "colab": {
          "base_uri": "https://localhost:8080/"
        },
        "id": "vJtdJjyAR1_s",
        "outputId": "8e4e3f85-6acf-45b1-f599-f8415eda8431"
      },
      "execution_count": 34,
      "outputs": [
        {
          "output_type": "execute_result",
          "data": {
            "text/plain": [
              "(array([ 0,  1,  3,  4,  6,  7, 11, 12, 13, 14]),)"
            ]
          },
          "metadata": {},
          "execution_count": 34
        }
      ]
    },
    {
      "cell_type": "code",
      "source": [
        "# replace all values > 50 with 0\n",
        "# np.where(condition, true, false)\n",
        "np.where(a>50, 0, a)"
      ],
      "metadata": {
        "colab": {
          "base_uri": "https://localhost:8080/"
        },
        "id": "xUUP52EbaBBk",
        "outputId": "933f4963-4097-489e-a8d9-b84f9781a876"
      },
      "execution_count": 35,
      "outputs": [
        {
          "output_type": "execute_result",
          "data": {
            "text/plain": [
              "array([ 0,  0, 13,  0,  0, 22,  0,  0, 46, 27, 23,  0,  0,  0,  0])"
            ]
          },
          "metadata": {},
          "execution_count": 35
        }
      ]
    },
    {
      "cell_type": "code",
      "source": [
        "\n",
        "a = np.random.randint(1,100,50)"
      ],
      "metadata": {
        "id": "-wOvifrQajuW"
      },
      "execution_count": 36,
      "outputs": []
    },
    {
      "cell_type": "code",
      "source": [
        "a"
      ],
      "metadata": {
        "colab": {
          "base_uri": "https://localhost:8080/"
        },
        "id": "g4R7dXqZa-69",
        "outputId": "3c8d2bf4-a54f-44ae-aa63-723c321ce311"
      },
      "execution_count": 37,
      "outputs": [
        {
          "output_type": "execute_result",
          "data": {
            "text/plain": [
              "array([32, 22, 97, 63, 54, 56, 13, 26, 50, 46, 66, 78, 36, 69, 94, 96, 50,\n",
              "       95, 51, 67, 83, 77, 68, 68, 41, 88, 14, 15, 80, 56, 89, 71, 90, 87,\n",
              "       80, 86, 89, 22, 13, 20, 84, 67, 55, 59, 22, 53, 79,  8, 54, 86])"
            ]
          },
          "metadata": {},
          "execution_count": 37
        }
      ]
    },
    {
      "cell_type": "code",
      "source": [
        "# replace all even values with 0\n",
        "np.where(a%2==0, 0, a)"
      ],
      "metadata": {
        "colab": {
          "base_uri": "https://localhost:8080/"
        },
        "id": "eJPm8OhbbABR",
        "outputId": "f6c7831b-5f8d-402e-fced-e039fd6d0168"
      },
      "execution_count": 38,
      "outputs": [
        {
          "output_type": "execute_result",
          "data": {
            "text/plain": [
              "array([ 0,  0, 97, 63,  0,  0, 13,  0,  0,  0,  0,  0,  0, 69,  0,  0,  0,\n",
              "       95, 51, 67, 83, 77,  0,  0, 41,  0,  0, 15,  0,  0, 89, 71,  0, 87,\n",
              "        0,  0, 89,  0, 13,  0,  0, 67, 55, 59,  0, 53, 79,  0,  0,  0])"
            ]
          },
          "metadata": {},
          "execution_count": 38
        }
      ]
    },
    {
      "cell_type": "markdown",
      "source": [
        "# np.argmax\n",
        "The numpy.argmax() function returns indices of the max element of the array in a particular axis.\n",
        "\n",
        "https://numpy.org/doc/stable/reference/generated/numpy.argmax.html"
      ],
      "metadata": {
        "id": "uMozlG20bXEf"
      }
    },
    {
      "cell_type": "code",
      "source": [
        "a = np.random.randint(1,100,50)\n",
        "a"
      ],
      "metadata": {
        "colab": {
          "base_uri": "https://localhost:8080/"
        },
        "id": "7Qr53Ga1bGW8",
        "outputId": "3059c8ad-f422-486a-990c-88f698f2e88f"
      },
      "execution_count": 40,
      "outputs": [
        {
          "output_type": "execute_result",
          "data": {
            "text/plain": [
              "array([19, 28, 26, 33,  6, 42, 71, 44, 76,  7, 47, 98, 23, 23, 27, 38, 11,\n",
              "       33, 34, 60, 29, 36, 98, 66, 81, 44, 16, 32, 63, 17, 62, 93, 82, 54,\n",
              "       18, 26, 16, 32, 71, 24, 73, 18, 55, 22, 61, 29,  8, 69, 89, 94])"
            ]
          },
          "metadata": {},
          "execution_count": 40
        }
      ]
    },
    {
      "cell_type": "code",
      "source": [
        "np.argmax(a)"
      ],
      "metadata": {
        "colab": {
          "base_uri": "https://localhost:8080/"
        },
        "id": "NRsBzIVabupo",
        "outputId": "bae85618-f8ae-4f26-b91f-e7fdffba1077"
      },
      "execution_count": 41,
      "outputs": [
        {
          "output_type": "execute_result",
          "data": {
            "text/plain": [
              "11"
            ]
          },
          "metadata": {},
          "execution_count": 41
        }
      ]
    },
    {
      "cell_type": "code",
      "source": [
        "b = np.random.randint(1,100, 24).reshape(6,4)\n",
        "b"
      ],
      "metadata": {
        "colab": {
          "base_uri": "https://localhost:8080/"
        },
        "id": "VhJLm1UPb1Qb",
        "outputId": "b7b2419b-d89d-4051-c130-0f937a6930b9"
      },
      "execution_count": 43,
      "outputs": [
        {
          "output_type": "execute_result",
          "data": {
            "text/plain": [
              "array([[51, 76, 30, 78],\n",
              "       [16, 85, 73, 94],\n",
              "       [42, 18, 13, 41],\n",
              "       [49, 22, 38, 21],\n",
              "       [49, 99, 69, 24],\n",
              "       [18, 22, 68, 85]])"
            ]
          },
          "metadata": {},
          "execution_count": 43
        }
      ]
    },
    {
      "cell_type": "code",
      "source": [
        "# row wise\n",
        "np.argmax(b,axis=0)"
      ],
      "metadata": {
        "colab": {
          "base_uri": "https://localhost:8080/"
        },
        "id": "AGJBYgzTcS8I",
        "outputId": "785a6929-5a61-4823-fc14-1f12951719aa"
      },
      "execution_count": 44,
      "outputs": [
        {
          "output_type": "execute_result",
          "data": {
            "text/plain": [
              "array([0, 4, 1, 1])"
            ]
          },
          "metadata": {},
          "execution_count": 44
        }
      ]
    },
    {
      "cell_type": "code",
      "source": [
        "print(a)\n",
        "# np.argmin\n",
        "np.argmin(a)"
      ],
      "metadata": {
        "colab": {
          "base_uri": "https://localhost:8080/"
        },
        "id": "h4ONQmkkcjJF",
        "outputId": "23bf81f5-4a2c-465f-e928-10b4f9b27124"
      },
      "execution_count": 47,
      "outputs": [
        {
          "output_type": "stream",
          "name": "stdout",
          "text": [
            "[19 28 26 33  6 42 71 44 76  7 47 98 23 23 27 38 11 33 34 60 29 36 98 66\n",
            " 81 44 16 32 63 17 62 93 82 54 18 26 16 32 71 24 73 18 55 22 61 29  8 69\n",
            " 89 94]\n"
          ]
        },
        {
          "output_type": "execute_result",
          "data": {
            "text/plain": [
              "4"
            ]
          },
          "metadata": {},
          "execution_count": 47
        }
      ]
    },
    {
      "cell_type": "markdown",
      "source": [
        "# np.cumsum     \n",
        "cumulitive sum\n",
        "\n",
        "numpy.cumsum() function is used when we want to compute the cumulative sum of array elements over a given axis.\n",
        "\n",
        "https://numpy.org/doc/stable/reference/generated/numpy.cumsum.html"
      ],
      "metadata": {
        "id": "WIUx2qC3dkiY"
      }
    },
    {
      "cell_type": "code",
      "source": [
        "a = np.random.randint(1,100,25)\n",
        "a"
      ],
      "metadata": {
        "colab": {
          "base_uri": "https://localhost:8080/"
        },
        "id": "axaj0fVUdZN7",
        "outputId": "3a6dc952-a2de-448d-9e62-4c7f9d98982b"
      },
      "execution_count": 4,
      "outputs": [
        {
          "output_type": "execute_result",
          "data": {
            "text/plain": [
              "array([66, 98, 72, 70, 28, 64, 75, 27, 54, 66,  9, 10, 42, 82, 70, 36, 90,\n",
              "       75, 22, 32, 32, 12, 74, 14, 26])"
            ]
          },
          "metadata": {},
          "execution_count": 4
        }
      ]
    },
    {
      "cell_type": "code",
      "source": [
        "np.cumsum(a)"
      ],
      "metadata": {
        "colab": {
          "base_uri": "https://localhost:8080/"
        },
        "id": "qIyw222SeYZb",
        "outputId": "68a30b94-b345-46ff-ffec-c9208f1d388b"
      },
      "execution_count": 5,
      "outputs": [
        {
          "output_type": "execute_result",
          "data": {
            "text/plain": [
              "array([  66,  164,  236,  306,  334,  398,  473,  500,  554,  620,  629,\n",
              "        639,  681,  763,  833,  869,  959, 1034, 1056, 1088, 1120, 1132,\n",
              "       1206, 1220, 1246])"
            ]
          },
          "metadata": {},
          "execution_count": 5
        }
      ]
    },
    {
      "cell_type": "code",
      "source": [
        "# for 2d array\n",
        "b = np.random.randint(1,100,24).reshape(4,6)\n",
        "b"
      ],
      "metadata": {
        "colab": {
          "base_uri": "https://localhost:8080/"
        },
        "id": "ccqAiYPhebPJ",
        "outputId": "13fc7ae8-f6b2-4519-d5d3-f973d5e911ee"
      },
      "execution_count": 2,
      "outputs": [
        {
          "output_type": "execute_result",
          "data": {
            "text/plain": [
              "array([[25, 68,  2, 88, 52,  7],\n",
              "       [22, 94, 75, 34, 15, 47],\n",
              "       [69, 62, 35, 26, 81, 40],\n",
              "       [75, 32, 76, 22, 61, 14]])"
            ]
          },
          "metadata": {},
          "execution_count": 2
        }
      ]
    },
    {
      "cell_type": "code",
      "source": [
        "np.cumsum(b)\n"
      ],
      "metadata": {
        "colab": {
          "base_uri": "https://localhost:8080/"
        },
        "id": "xgM5htrUewUx",
        "outputId": "47a0b4f4-66f8-4950-b172-56e0b5a93c8a"
      },
      "execution_count": 54,
      "outputs": [
        {
          "output_type": "execute_result",
          "data": {
            "text/plain": [
              "array([  98,  130,  212,  240,  291,  336,  341,  388,  423,  463,  466,\n",
              "        532,  538,  635,  647,  735,  830,  871,  918, 1016, 1073, 1116,\n",
              "       1187, 1201])"
            ]
          },
          "metadata": {},
          "execution_count": 54
        }
      ]
    },
    {
      "cell_type": "code",
      "source": [
        "np.cumsum(b, axis=0) # columnwise"
      ],
      "metadata": {
        "colab": {
          "base_uri": "https://localhost:8080/"
        },
        "id": "7zjguoO4e2v0",
        "outputId": "68ebd26b-434e-45f6-f117-f0f354850f98"
      },
      "execution_count": 55,
      "outputs": [
        {
          "output_type": "execute_result",
          "data": {
            "text/plain": [
              "array([[ 98,  32,  82,  28,  51,  45],\n",
              "       [103,  79, 117,  68,  54, 111],\n",
              "       [109, 176, 129, 156, 149, 152],\n",
              "       [156, 274, 186, 199, 220, 166]])"
            ]
          },
          "metadata": {},
          "execution_count": 55
        }
      ]
    },
    {
      "cell_type": "code",
      "source": [
        "np.cumsum(b, axis=1) # rowwise"
      ],
      "metadata": {
        "colab": {
          "base_uri": "https://localhost:8080/"
        },
        "id": "u7YR8_iIk3Sr",
        "outputId": "703b83f3-bc97-481a-d57d-5a0312de97a9"
      },
      "execution_count": 56,
      "outputs": [
        {
          "output_type": "execute_result",
          "data": {
            "text/plain": [
              "array([[ 98, 130, 212, 240, 291, 336],\n",
              "       [  5,  52,  87, 127, 130, 196],\n",
              "       [  6, 103, 115, 203, 298, 339],\n",
              "       [ 47, 145, 202, 245, 316, 330]])"
            ]
          },
          "metadata": {},
          "execution_count": 56
        }
      ]
    },
    {
      "cell_type": "code",
      "source": [
        "# cumprod\n",
        "np.cumprod(a)"
      ],
      "metadata": {
        "colab": {
          "base_uri": "https://localhost:8080/"
        },
        "id": "f5StBgaXk5b0",
        "outputId": "b58d1d56-ed66-44b8-bfef-344706157347"
      },
      "execution_count": 7,
      "outputs": [
        {
          "output_type": "execute_result",
          "data": {
            "text/plain": [
              "array([                  66,                 6468,               465696,\n",
              "                   32598720,            912764160,          58416906240,\n",
              "              4381267968000,      118294235136000,     6387888697344000,\n",
              "         421600654024704000,  3794405886222336000,  1050570714804256768,\n",
              "        7230481874359681024,  2603703338788192256, -2208207021922058240,\n",
              "       -5708476494355890176,  2745949571837329408,  3032033076994637824,\n",
              "       -7082248600956174336, -5271026346082959360, -2652146411268734976,\n",
              "        5067731212194283520,  6077228228185948160, -7152525173944483840,\n",
              "       -1498213785461063680])"
            ]
          },
          "metadata": {},
          "execution_count": 7
        }
      ]
    },
    {
      "cell_type": "markdown",
      "source": [
        "# np.percentile\n",
        "numpy.percentile()function used to compute the nth percentile of the given data (array elements) along the specified axis.\n",
        "\n",
        "https://numpy.org/doc/stable/reference/generated/numpy.percentile.html"
      ],
      "metadata": {
        "id": "0jqgBa6C_ssg"
      }
    },
    {
      "cell_type": "code",
      "source": [
        "np.percentile(a, 50)"
      ],
      "metadata": {
        "colab": {
          "base_uri": "https://localhost:8080/"
        },
        "id": "vzSFd7di-7Zo",
        "outputId": "4878eb26-865e-46d6-b9c7-67e816e610f3"
      },
      "execution_count": 9,
      "outputs": [
        {
          "output_type": "execute_result",
          "data": {
            "text/plain": [
              "54.0"
            ]
          },
          "metadata": {},
          "execution_count": 9
        }
      ]
    },
    {
      "cell_type": "code",
      "source": [
        "np.median(a)"
      ],
      "metadata": {
        "colab": {
          "base_uri": "https://localhost:8080/"
        },
        "id": "9EDP35asC-wD",
        "outputId": "cc7868f9-6ba5-4cd3-953b-fe5aceb11038"
      },
      "execution_count": 11,
      "outputs": [
        {
          "output_type": "execute_result",
          "data": {
            "text/plain": [
              "54.0"
            ]
          },
          "metadata": {},
          "execution_count": 11
        }
      ]
    },
    {
      "cell_type": "markdown",
      "source": [
        "# np.histogram\n",
        "Numpy has a built-in numpy.histogram() function which represents the frequency of data distribution in the graphical form.\n",
        "\n",
        "https://numpy.org/doc/stable/reference/generated/numpy.histogram.html"
      ],
      "metadata": {
        "id": "qQDAfoBxET5e"
      }
    },
    {
      "cell_type": "code",
      "source": [
        "a"
      ],
      "metadata": {
        "colab": {
          "base_uri": "https://localhost:8080/"
        },
        "id": "d2L9XIrBEL1e",
        "outputId": "7e76b8ba-d1a0-4a25-c0a7-b76393cab377"
      },
      "execution_count": 12,
      "outputs": [
        {
          "output_type": "execute_result",
          "data": {
            "text/plain": [
              "array([66, 98, 72, 70, 28, 64, 75, 27, 54, 66,  9, 10, 42, 82, 70, 36, 90,\n",
              "       75, 22, 32, 32, 12, 74, 14, 26])"
            ]
          },
          "metadata": {},
          "execution_count": 12
        }
      ]
    },
    {
      "cell_type": "code",
      "source": [
        "np.histogram(a,bins=[0,10,20,30,40,50,60,70,80,90,100])"
      ],
      "metadata": {
        "colab": {
          "base_uri": "https://localhost:8080/"
        },
        "id": "K9YwnKetFD17",
        "outputId": "f8e68a9a-14d7-4fd7-8431-51bdac496b4a"
      },
      "execution_count": 14,
      "outputs": [
        {
          "output_type": "execute_result",
          "data": {
            "text/plain": [
              "(array([1, 3, 4, 3, 1, 1, 3, 6, 1, 2]),\n",
              " array([  0,  10,  20,  30,  40,  50,  60,  70,  80,  90, 100]))"
            ]
          },
          "metadata": {},
          "execution_count": 14
        }
      ]
    },
    {
      "cell_type": "markdown",
      "source": [
        "# np.corrcoef\n",
        "Return Pearson product-moment correlation coefficients.\n",
        "\n",
        "https://numpy.org/doc/stable/reference/generated/numpy.corrcoef.html"
      ],
      "metadata": {
        "id": "q_PlVORZFu54"
      }
    },
    {
      "cell_type": "code",
      "source": [
        "salary = np.array([20000,40000,25000,35000,60000])\n",
        "experience = np.array([1,3,2,4,2])\n",
        "\n",
        "np.corrcoef(salary, experience)"
      ],
      "metadata": {
        "colab": {
          "base_uri": "https://localhost:8080/"
        },
        "id": "JPa5JR95FRPU",
        "outputId": "20609c24-aa22-4168-ed0f-9297f6d96fcc"
      },
      "execution_count": 15,
      "outputs": [
        {
          "output_type": "execute_result",
          "data": {
            "text/plain": [
              "array([[1.        , 0.25344572],\n",
              "       [0.25344572, 1.        ]])"
            ]
          },
          "metadata": {},
          "execution_count": 15
        }
      ]
    },
    {
      "cell_type": "markdown",
      "source": [
        "# np.isin\n",
        "With the help of numpy.isin() method, we can see that one array having values are checked in a different numpy array having different elements with different sizes.\n",
        "\n",
        "https://numpy.org/doc/stable/reference/generated/numpy.isin.html"
      ],
      "metadata": {
        "id": "2n5PR2gNIh7O"
      }
    },
    {
      "cell_type": "code",
      "source": [
        "a"
      ],
      "metadata": {
        "colab": {
          "base_uri": "https://localhost:8080/"
        },
        "id": "IVyIjaJQH4k_",
        "outputId": "814523de-4cae-43ce-daf6-d6b9e152ac69"
      },
      "execution_count": 16,
      "outputs": [
        {
          "output_type": "execute_result",
          "data": {
            "text/plain": [
              "array([66, 98, 72, 70, 28, 64, 75, 27, 54, 66,  9, 10, 42, 82, 70, 36, 90,\n",
              "       75, 22, 32, 32, 12, 74, 14, 26])"
            ]
          },
          "metadata": {},
          "execution_count": 16
        }
      ]
    },
    {
      "cell_type": "code",
      "source": [
        "items = [10,20,30,40,50,60,70,80,90,100]\n",
        "# np.isin(a, items)\n",
        "a[np.isin(a, items)]"
      ],
      "metadata": {
        "colab": {
          "base_uri": "https://localhost:8080/"
        },
        "id": "j7Rit0h_Ipkz",
        "outputId": "f94eaaf4-d86e-4415-8e74-5dc88b51c49f"
      },
      "execution_count": 19,
      "outputs": [
        {
          "output_type": "execute_result",
          "data": {
            "text/plain": [
              "array([70, 10, 70, 90])"
            ]
          },
          "metadata": {},
          "execution_count": 19
        }
      ]
    },
    {
      "cell_type": "markdown",
      "source": [
        "np.flip\n",
        "The numpy.flip() function reverses the order of array elements along the specified axis, preserving the shape of the array.\n",
        "\n",
        "https://numpy.org/doc/stable/reference/generated/numpy.flip.html"
      ],
      "metadata": {
        "id": "QszoYdXeJSDk"
      }
    },
    {
      "cell_type": "code",
      "source": [
        "a"
      ],
      "metadata": {
        "colab": {
          "base_uri": "https://localhost:8080/"
        },
        "id": "-1HM0Ys3I3IB",
        "outputId": "abb0e982-a4a8-4d4d-9c26-ce95ba603903"
      },
      "execution_count": 20,
      "outputs": [
        {
          "output_type": "execute_result",
          "data": {
            "text/plain": [
              "array([66, 98, 72, 70, 28, 64, 75, 27, 54, 66,  9, 10, 42, 82, 70, 36, 90,\n",
              "       75, 22, 32, 32, 12, 74, 14, 26])"
            ]
          },
          "metadata": {},
          "execution_count": 20
        }
      ]
    },
    {
      "cell_type": "code",
      "source": [
        "np.flip(a)"
      ],
      "metadata": {
        "colab": {
          "base_uri": "https://localhost:8080/"
        },
        "id": "xDam5rzzK1mM",
        "outputId": "bb42f4bc-a6d8-43c3-8002-b66d148f5008"
      },
      "execution_count": 21,
      "outputs": [
        {
          "output_type": "execute_result",
          "data": {
            "text/plain": [
              "array([26, 14, 74, 12, 32, 32, 22, 75, 90, 36, 70, 82, 42, 10,  9, 66, 54,\n",
              "       27, 75, 64, 28, 70, 72, 98, 66])"
            ]
          },
          "metadata": {},
          "execution_count": 21
        }
      ]
    },
    {
      "cell_type": "code",
      "source": [
        "b"
      ],
      "metadata": {
        "colab": {
          "base_uri": "https://localhost:8080/"
        },
        "id": "AcX_efYQK418",
        "outputId": "d66c09c9-584a-4ee5-cbc6-6fe83d327b98"
      },
      "execution_count": 22,
      "outputs": [
        {
          "output_type": "execute_result",
          "data": {
            "text/plain": [
              "array([[25, 68,  2, 88, 52,  7],\n",
              "       [22, 94, 75, 34, 15, 47],\n",
              "       [69, 62, 35, 26, 81, 40],\n",
              "       [75, 32, 76, 22, 61, 14]])"
            ]
          },
          "metadata": {},
          "execution_count": 22
        }
      ]
    },
    {
      "cell_type": "code",
      "source": [
        "# 2d array fliping\n",
        "np.flip(b)"
      ],
      "metadata": {
        "colab": {
          "base_uri": "https://localhost:8080/"
        },
        "id": "Yb22r0zcK8wT",
        "outputId": "079b8e96-ce75-40e3-af17-979fb7d847a9"
      },
      "execution_count": 23,
      "outputs": [
        {
          "output_type": "execute_result",
          "data": {
            "text/plain": [
              "array([[14, 61, 22, 76, 32, 75],\n",
              "       [40, 81, 26, 35, 62, 69],\n",
              "       [47, 15, 34, 75, 94, 22],\n",
              "       [ 7, 52, 88,  2, 68, 25]])"
            ]
          },
          "metadata": {},
          "execution_count": 23
        }
      ]
    },
    {
      "cell_type": "code",
      "source": [
        "# 2d array fliping -> row wise, axis=1\n",
        "np.flip(b, axis=1)"
      ],
      "metadata": {
        "colab": {
          "base_uri": "https://localhost:8080/"
        },
        "id": "HlaVfr12LAnY",
        "outputId": "de3d08f8-0dd9-4e09-af40-7b89e2265820"
      },
      "execution_count": 24,
      "outputs": [
        {
          "output_type": "execute_result",
          "data": {
            "text/plain": [
              "array([[ 7, 52, 88,  2, 68, 25],\n",
              "       [47, 15, 34, 75, 94, 22],\n",
              "       [40, 81, 26, 35, 62, 69],\n",
              "       [14, 61, 22, 76, 32, 75]])"
            ]
          },
          "metadata": {},
          "execution_count": 24
        }
      ]
    },
    {
      "cell_type": "code",
      "source": [
        "# 2d array fliping -> column wise, axis=1\n",
        "np.flip(b, axis=0)"
      ],
      "metadata": {
        "colab": {
          "base_uri": "https://localhost:8080/"
        },
        "id": "XZTVlmwwLo1A",
        "outputId": "a60df2a3-26c4-4022-b078-60c1fc09fb51"
      },
      "execution_count": 26,
      "outputs": [
        {
          "output_type": "execute_result",
          "data": {
            "text/plain": [
              "array([[75, 32, 76, 22, 61, 14],\n",
              "       [69, 62, 35, 26, 81, 40],\n",
              "       [22, 94, 75, 34, 15, 47],\n",
              "       [25, 68,  2, 88, 52,  7]])"
            ]
          },
          "metadata": {},
          "execution_count": 26
        }
      ]
    },
    {
      "cell_type": "markdown",
      "source": [
        "# np.put\n",
        "The numpy.put() function replaces specific elements of an array with given values of p_array. Array indexed works on flattened array.\n",
        "\n",
        "https://numpy.org/doc/stable/reference/generated/numpy.put.html"
      ],
      "metadata": {
        "id": "gC2fBVuRMPBk"
      }
    },
    {
      "cell_type": "code",
      "source": [
        "np.put(a, [0,1], [100,200])  # array, index, change values. put() permanently changes the value\n"
      ],
      "metadata": {
        "id": "Ehlw8x6sL97R"
      },
      "execution_count": 27,
      "outputs": []
    },
    {
      "cell_type": "code",
      "source": [
        "a"
      ],
      "metadata": {
        "colab": {
          "base_uri": "https://localhost:8080/"
        },
        "id": "vVS1pbIyaEn9",
        "outputId": "d2d425fb-7350-4645-81c9-02afba0e7471"
      },
      "execution_count": 28,
      "outputs": [
        {
          "output_type": "execute_result",
          "data": {
            "text/plain": [
              "array([100, 200,  72,  70,  28,  64,  75,  27,  54,  66,   9,  10,  42,\n",
              "        82,  70,  36,  90,  75,  22,  32,  32,  12,  74,  14,  26])"
            ]
          },
          "metadata": {},
          "execution_count": 28
        }
      ]
    },
    {
      "cell_type": "markdown",
      "source": [
        "# np.delete\n",
        "The numpy.delete() function returns a new array with the deletion of sub-arrays along with the mentioned axis.\n",
        "\n",
        "https://numpy.org/doc/stable/reference/generated/numpy.delete.html"
      ],
      "metadata": {
        "id": "N5SPgN83aKc5"
      }
    },
    {
      "cell_type": "code",
      "source": [
        "np.delete(a,0)   #  array, index"
      ],
      "metadata": {
        "colab": {
          "base_uri": "https://localhost:8080/"
        },
        "id": "4BkL0KTJaFW5",
        "outputId": "c4ecf4da-24d6-4b31-920e-e065c75b41f7"
      },
      "execution_count": 29,
      "outputs": [
        {
          "output_type": "execute_result",
          "data": {
            "text/plain": [
              "array([200,  72,  70,  28,  64,  75,  27,  54,  66,   9,  10,  42,  82,\n",
              "        70,  36,  90,  75,  22,  32,  32,  12,  74,  14,  26])"
            ]
          },
          "metadata": {},
          "execution_count": 29
        }
      ]
    },
    {
      "cell_type": "code",
      "source": [
        "np.delete(a,[1,2,3,4])  # multiple value delete"
      ],
      "metadata": {
        "colab": {
          "base_uri": "https://localhost:8080/"
        },
        "id": "SWxvHwqba5d0",
        "outputId": "d09d35b4-6c4c-4735-8519-084b066d8d7c"
      },
      "execution_count": 31,
      "outputs": [
        {
          "output_type": "execute_result",
          "data": {
            "text/plain": [
              "array([100,  64,  75,  27,  54,  66,   9,  10,  42,  82,  70,  36,  90,\n",
              "        75,  22,  32,  32,  12,  74,  14,  26])"
            ]
          },
          "metadata": {},
          "execution_count": 31
        }
      ]
    },
    {
      "cell_type": "markdown",
      "source": [
        "# Set functions\n",
        "- np.union1d\n",
        "- np.intersect1d\n",
        "- np.setdiff1d\n",
        "- np.setxor1d\n",
        "- np.in1d"
      ],
      "metadata": {
        "id": "Mvck_hlLdjh6"
      }
    },
    {
      "cell_type": "code",
      "source": [
        "import numpy as np"
      ],
      "metadata": {
        "id": "YkywPM2LeCRd"
      },
      "execution_count": 34,
      "outputs": []
    },
    {
      "cell_type": "code",
      "source": [
        "# union1d\n",
        "m = np.array([1,2,3,4,5])\n",
        "n = np.array([3,4,5,6,7])\n",
        "np.union1d(m,n)"
      ],
      "metadata": {
        "colab": {
          "base_uri": "https://localhost:8080/"
        },
        "id": "DtunndBUbgOU",
        "outputId": "ac2e4953-6b4a-4699-ff7b-fd5861db0ad2"
      },
      "execution_count": 36,
      "outputs": [
        {
          "output_type": "execute_result",
          "data": {
            "text/plain": [
              "array([1, 2, 3, 4, 5, 6, 7])"
            ]
          },
          "metadata": {},
          "execution_count": 36
        }
      ]
    },
    {
      "cell_type": "code",
      "source": [
        "# intersect1d\n",
        "np.intersect1d(m,n)"
      ],
      "metadata": {
        "colab": {
          "base_uri": "https://localhost:8080/"
        },
        "id": "3_QqZSOhd9Z1",
        "outputId": "8894df95-bd62-4ded-910c-a0f4c9b2b587"
      },
      "execution_count": 38,
      "outputs": [
        {
          "output_type": "execute_result",
          "data": {
            "text/plain": [
              "array([3, 4, 5])"
            ]
          },
          "metadata": {},
          "execution_count": 38
        }
      ]
    },
    {
      "cell_type": "code",
      "source": [
        "# setdiff1d\n",
        "print(np.setdiff1d(m,n))\n",
        "print(np.setdiff1d(n,m))\n"
      ],
      "metadata": {
        "colab": {
          "base_uri": "https://localhost:8080/"
        },
        "id": "w2SZNv7HeQzy",
        "outputId": "7144a474-6929-4402-9994-ebdfe683746a"
      },
      "execution_count": 43,
      "outputs": [
        {
          "output_type": "stream",
          "name": "stdout",
          "text": [
            "[1 2]\n",
            "[6 7]\n"
          ]
        }
      ]
    },
    {
      "cell_type": "code",
      "source": [
        "# setxor1d\n",
        "np.setxor1d(m,n)"
      ],
      "metadata": {
        "colab": {
          "base_uri": "https://localhost:8080/"
        },
        "id": "lSHkcRARfE_v",
        "outputId": "27b6f544-712d-4fc4-f14c-a31067252a3d"
      },
      "execution_count": 44,
      "outputs": [
        {
          "output_type": "execute_result",
          "data": {
            "text/plain": [
              "array([1, 2, 6, 7])"
            ]
          },
          "metadata": {},
          "execution_count": 44
        }
      ]
    },
    {
      "cell_type": "code",
      "source": [
        "# in1d    -> finding values\n",
        "np.in1d(m, 1)    # array, value"
      ],
      "metadata": {
        "colab": {
          "base_uri": "https://localhost:8080/"
        },
        "id": "wX05WnvUhhp6",
        "outputId": "89a0ae77-e51d-440c-d883-ebeb0929841e"
      },
      "execution_count": 46,
      "outputs": [
        {
          "output_type": "execute_result",
          "data": {
            "text/plain": [
              "array([ True, False, False, False, False])"
            ]
          },
          "metadata": {},
          "execution_count": 46
        }
      ]
    },
    {
      "cell_type": "code",
      "source": [
        "np.in1d(m, [1,2,3]) # multiple values"
      ],
      "metadata": {
        "colab": {
          "base_uri": "https://localhost:8080/"
        },
        "id": "F320c8PfhyjP",
        "outputId": "43764c31-3503-4ac4-e0da-7dc7093b6219"
      },
      "execution_count": 48,
      "outputs": [
        {
          "output_type": "execute_result",
          "data": {
            "text/plain": [
              "array([ True,  True,  True, False, False])"
            ]
          },
          "metadata": {},
          "execution_count": 48
        }
      ]
    },
    {
      "cell_type": "markdown",
      "source": [
        "# np.clip\n",
        "numpy.clip() function is used to Clip (limit) the values in an array.\n",
        "\n",
        "https://numpy.org/doc/stable/reference/generated/numpy.clip.html"
      ],
      "metadata": {
        "id": "qJ7Bls5FiLb-"
      }
    },
    {
      "cell_type": "code",
      "source": [
        "a"
      ],
      "metadata": {
        "colab": {
          "base_uri": "https://localhost:8080/"
        },
        "id": "S3StuhpxiAJk",
        "outputId": "f54655a0-80fc-41b2-9121-8a235dd47e22"
      },
      "execution_count": 49,
      "outputs": [
        {
          "output_type": "execute_result",
          "data": {
            "text/plain": [
              "array([100, 200,  72,  70,  28,  64,  75,  27,  54,  66,   9,  10,  42,\n",
              "        82,  70,  36,  90,  75,  22,  32,  32,  12,  74,  14,  26])"
            ]
          },
          "metadata": {},
          "execution_count": 49
        }
      ]
    },
    {
      "cell_type": "code",
      "source": [
        "np.clip(a, a_min=25, a_max=75)"
      ],
      "metadata": {
        "colab": {
          "base_uri": "https://localhost:8080/"
        },
        "id": "eYPGiKkFigUe",
        "outputId": "0a68022a-2deb-40cf-f1bc-c2011d11f2dc"
      },
      "execution_count": 50,
      "outputs": [
        {
          "output_type": "execute_result",
          "data": {
            "text/plain": [
              "array([75, 75, 72, 70, 28, 64, 75, 27, 54, 66, 25, 25, 42, 75, 70, 36, 75,\n",
              "       75, 25, 32, 32, 25, 74, 25, 26])"
            ]
          },
          "metadata": {},
          "execution_count": 50
        }
      ]
    },
    {
      "cell_type": "code",
      "source": [],
      "metadata": {
        "id": "M2kMOrP2jC0J"
      },
      "execution_count": null,
      "outputs": []
    }
  ]
}