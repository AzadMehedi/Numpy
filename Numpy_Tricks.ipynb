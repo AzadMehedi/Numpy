{
  "nbformat": 4,
  "nbformat_minor": 0,
  "metadata": {
    "colab": {
      "provenance": [],
      "authorship_tag": "ABX9TyOZhEe6oS2sOpOXGNf0qJXi",
      "include_colab_link": true
    },
    "kernelspec": {
      "name": "python3",
      "display_name": "Python 3"
    },
    "language_info": {
      "name": "python"
    }
  },
  "cells": [
    {
      "cell_type": "markdown",
      "metadata": {
        "id": "view-in-github",
        "colab_type": "text"
      },
      "source": [
        "<a href=\"https://colab.research.google.com/github/AzadMehedi/Numpy/blob/main/Numpy_Tricks.ipynb\" target=\"_parent\"><img src=\"https://colab.research.google.com/assets/colab-badge.svg\" alt=\"Open In Colab\"/></a>"
      ]
    },
    {
      "cell_type": "markdown",
      "source": [
        "# np.sort\n",
        "\n",
        "Return a sorted copy of an array.\n",
        "\n",
        "https://numpy.org/doc/stable/reference/generated/numpy.sort.html"
      ],
      "metadata": {
        "id": "FalpizRHIKI6"
      }
    },
    {
      "cell_type": "code",
      "execution_count": 1,
      "metadata": {
        "colab": {
          "base_uri": "https://localhost:8080/"
        },
        "id": "AMomdp4yIHx4",
        "outputId": "f347ac64-586a-4e11-a2ee-fe8934ed33ff"
      },
      "outputs": [
        {
          "output_type": "execute_result",
          "data": {
            "text/plain": [
              "array([43, 82,  8, 40, 60, 93, 91, 22, 37, 65, 32, 50, 95, 15,  8])"
            ]
          },
          "metadata": {},
          "execution_count": 1
        }
      ],
      "source": [
        "# code\n",
        "import numpy as np\n",
        "a = np.random.randint(1,100,15)\n",
        "a"
      ]
    },
    {
      "cell_type": "code",
      "source": [
        "# sort\n",
        "np.sort(a)"
      ],
      "metadata": {
        "colab": {
          "base_uri": "https://localhost:8080/"
        },
        "id": "AXhM-Fw2IrsA",
        "outputId": "9f89bce2-9377-477e-ab09-ee7bec995a5f"
      },
      "execution_count": 2,
      "outputs": [
        {
          "output_type": "execute_result",
          "data": {
            "text/plain": [
              "array([ 8,  8, 15, 22, 32, 37, 40, 43, 50, 60, 65, 82, 91, 93, 95])"
            ]
          },
          "metadata": {},
          "execution_count": 2
        }
      ]
    },
    {
      "cell_type": "code",
      "source": [
        "# decending order sort \n",
        "np.sort(a)[::-1]"
      ],
      "metadata": {
        "colab": {
          "base_uri": "https://localhost:8080/"
        },
        "id": "pOhjaMM5Kd7H",
        "outputId": "4d974884-c775-4434-a86a-7e122fd22563"
      },
      "execution_count": 6,
      "outputs": [
        {
          "output_type": "execute_result",
          "data": {
            "text/plain": [
              "array([95, 93, 91, 82, 65, 60, 50, 43, 40, 37, 32, 22, 15,  8,  8])"
            ]
          },
          "metadata": {},
          "execution_count": 6
        }
      ]
    },
    {
      "cell_type": "code",
      "source": [
        "b = np.random.randint(1,100, 24).reshape(6,4)\n",
        "b"
      ],
      "metadata": {
        "colab": {
          "base_uri": "https://localhost:8080/"
        },
        "id": "r054phKjJbxO",
        "outputId": "fa9501f0-d1c5-4abb-f09b-b906dbc489d3"
      },
      "execution_count": 7,
      "outputs": [
        {
          "output_type": "execute_result",
          "data": {
            "text/plain": [
              "array([[90, 82, 48, 83],\n",
              "       [49, 38, 51, 88],\n",
              "       [29, 95, 62, 44],\n",
              "       [38,  3, 80, 60],\n",
              "       [88, 31, 20, 70],\n",
              "       [60,  4, 46, 97]])"
            ]
          },
          "metadata": {},
          "execution_count": 7
        }
      ]
    },
    {
      "cell_type": "code",
      "source": [
        "# row wise sorting -> (axis=1) . its default\n",
        "np.sort(b)"
      ],
      "metadata": {
        "colab": {
          "base_uri": "https://localhost:8080/"
        },
        "id": "QUGzjZLKJmRl",
        "outputId": "41429f55-5a38-4773-f106-a1478c9b470c"
      },
      "execution_count": 8,
      "outputs": [
        {
          "output_type": "execute_result",
          "data": {
            "text/plain": [
              "array([[48, 82, 83, 90],\n",
              "       [38, 49, 51, 88],\n",
              "       [29, 44, 62, 95],\n",
              "       [ 3, 38, 60, 80],\n",
              "       [20, 31, 70, 88],\n",
              "       [ 4, 46, 60, 97]])"
            ]
          },
          "metadata": {},
          "execution_count": 8
        }
      ]
    },
    {
      "cell_type": "code",
      "source": [
        "# column wise sorting -> (axis=0) . its default\n",
        "np.sort(b, axis=0)"
      ],
      "metadata": {
        "colab": {
          "base_uri": "https://localhost:8080/"
        },
        "id": "XS7WKdeGJn1X",
        "outputId": "7711f8b6-dc2d-45b3-8617-e98964b33577"
      },
      "execution_count": 11,
      "outputs": [
        {
          "output_type": "execute_result",
          "data": {
            "text/plain": [
              "array([[29,  3, 20, 44],\n",
              "       [38,  4, 46, 60],\n",
              "       [49, 31, 48, 70],\n",
              "       [60, 38, 51, 83],\n",
              "       [88, 82, 62, 88],\n",
              "       [90, 95, 80, 97]])"
            ]
          },
          "metadata": {},
          "execution_count": 11
        }
      ]
    },
    {
      "cell_type": "markdown",
      "source": [
        "# np.append\n",
        "The numpy.append() appends values along the mentioned axis at the end of the array\n",
        "\n",
        "https://numpy.org/doc/stable/reference/generated/numpy.append.html"
      ],
      "metadata": {
        "id": "t435AbMfLkdY"
      }
    },
    {
      "cell_type": "code",
      "source": [
        "a = np.random.randint(1,100,15)\n",
        "np.append(a, 500)"
      ],
      "metadata": {
        "colab": {
          "base_uri": "https://localhost:8080/"
        },
        "id": "P_XmdLJ6KOnz",
        "outputId": "e3384013-0649-4c82-e3fa-bc48017f7135"
      },
      "execution_count": 13,
      "outputs": [
        {
          "output_type": "execute_result",
          "data": {
            "text/plain": [
              "array([ 53,  73,  13,  97,  68,  22,  62,  76,  46,  27,  23,  65,  70,\n",
              "        87,  53, 500])"
            ]
          },
          "metadata": {},
          "execution_count": 13
        }
      ]
    },
    {
      "cell_type": "code",
      "source": [
        "# append a new col\n",
        "b = np.random.randint(1,100, 24).reshape(6,4)\n",
        "np.append(b,np.ones((b.shape[0],1)), axis=1)\n",
        "# np.append(b,np.random.random((b.shape[0],1)), axis=1)\n"
      ],
      "metadata": {
        "colab": {
          "base_uri": "https://localhost:8080/"
        },
        "id": "o9AGiQ1iLt0T",
        "outputId": "235a5da2-1ce7-4e18-b6f3-cb5824fc1eca"
      },
      "execution_count": 16,
      "outputs": [
        {
          "output_type": "execute_result",
          "data": {
            "text/plain": [
              "array([[20., 92., 50., 13.,  1.],\n",
              "       [77., 64., 14., 44.,  1.],\n",
              "       [60., 63., 62., 22.,  1.],\n",
              "       [28., 27., 78., 27.,  1.],\n",
              "       [83., 38., 94., 44.,  1.],\n",
              "       [93., 42., 89., 69.,  1.]])"
            ]
          },
          "metadata": {},
          "execution_count": 16
        }
      ]
    },
    {
      "cell_type": "markdown",
      "source": [
        "# np.concatenate\n",
        "numpy.concatenate() function concatenate a sequence of arrays along an existing axis.\n",
        "\n",
        "https://numpy.org/doc/stable/reference/generated/numpy.concatenate.html"
      ],
      "metadata": {
        "id": "w2GUpvGAMpsk"
      }
    },
    {
      "cell_type": "code",
      "source": [
        "c = np.arange(6).reshape(2,3)\n",
        "d = np.arange(6,12).reshape(2,3)\n",
        "\n",
        "print(c)\n",
        "print(d)"
      ],
      "metadata": {
        "colab": {
          "base_uri": "https://localhost:8080/"
        },
        "id": "djQs2prcMNYN",
        "outputId": "5c90f9e7-07e4-4aa3-fc64-86dc8dba1e57"
      },
      "execution_count": 19,
      "outputs": [
        {
          "output_type": "stream",
          "name": "stdout",
          "text": [
            "[[0 1 2]\n",
            " [3 4 5]]\n",
            "[[ 6  7  8]\n",
            " [ 9 10 11]]\n"
          ]
        }
      ]
    },
    {
      "cell_type": "code",
      "source": [
        "# vertical concatenate -> row wise\n",
        "np.concatenate((c,d), axis=0)"
      ],
      "metadata": {
        "colab": {
          "base_uri": "https://localhost:8080/"
        },
        "id": "Kobgp3-dM4gn",
        "outputId": "51bc76dc-ef61-48d4-c4ee-1303fafbd669"
      },
      "execution_count": 20,
      "outputs": [
        {
          "output_type": "execute_result",
          "data": {
            "text/plain": [
              "array([[ 0,  1,  2],\n",
              "       [ 3,  4,  5],\n",
              "       [ 6,  7,  8],\n",
              "       [ 9, 10, 11]])"
            ]
          },
          "metadata": {},
          "execution_count": 20
        }
      ]
    },
    {
      "cell_type": "code",
      "source": [
        "# horizontal concatenate -> column wise\n",
        "np.concatenate((c,d), axis=1)"
      ],
      "metadata": {
        "colab": {
          "base_uri": "https://localhost:8080/"
        },
        "id": "4ArjGVHKNaQA",
        "outputId": "264da537-72ef-478d-85fe-88383930c72b"
      },
      "execution_count": 24,
      "outputs": [
        {
          "output_type": "execute_result",
          "data": {
            "text/plain": [
              "array([[ 0,  1,  2,  6,  7,  8],\n",
              "       [ 3,  4,  5,  9, 10, 11]])"
            ]
          },
          "metadata": {},
          "execution_count": 24
        }
      ]
    },
    {
      "cell_type": "markdown",
      "source": [
        "# np.unique\n",
        "With the help of np.unique() method, we can get the unique values from an array given as parameter in np.unique() method.\n",
        "\n",
        "https://numpy.org/doc/stable/reference/generated/numpy.unique.html/"
      ],
      "metadata": {
        "id": "MMv5fSfGNuOL"
      }
    },
    {
      "cell_type": "code",
      "source": [
        "e = np.array([1,1,2,2,3,3,4,4,5,5,6,6])\n",
        "np.unique(e)"
      ],
      "metadata": {
        "colab": {
          "base_uri": "https://localhost:8080/"
        },
        "id": "xJ2V8VQYNkTa",
        "outputId": "0e93c518-9bc3-4e5a-e1aa-b673ad1a3beb"
      },
      "execution_count": 25,
      "outputs": [
        {
          "output_type": "execute_result",
          "data": {
            "text/plain": [
              "array([1, 2, 3, 4, 5, 6])"
            ]
          },
          "metadata": {},
          "execution_count": 25
        }
      ]
    },
    {
      "cell_type": "markdown",
      "source": [
        "# np.expand_dims\n",
        "With the help of Numpy.expand_dims() method, we can get the expanded dimensions of an array\n",
        "\n",
        "https://numpy.org/doc/stable/reference/generated/numpy.expand_dims.html"
      ],
      "metadata": {
        "id": "EgMPffjTOif2"
      }
    },
    {
      "cell_type": "code",
      "source": [
        "a"
      ],
      "metadata": {
        "colab": {
          "base_uri": "https://localhost:8080/"
        },
        "id": "IwkxUS6oOScM",
        "outputId": "63f4ac24-62b9-46cd-f616-83e4d22c9bb9"
      },
      "execution_count": 26,
      "outputs": [
        {
          "output_type": "execute_result",
          "data": {
            "text/plain": [
              "array([53, 73, 13, 97, 68, 22, 62, 76, 46, 27, 23, 65, 70, 87, 53])"
            ]
          },
          "metadata": {},
          "execution_count": 26
        }
      ]
    },
    {
      "cell_type": "code",
      "source": [
        "np.expand_dims(a, axis=0)\n",
        "# np.expand_dims(a, axis=0).shape   \n"
      ],
      "metadata": {
        "colab": {
          "base_uri": "https://localhost:8080/"
        },
        "id": "My5P_6hQRur-",
        "outputId": "c6f5872b-e241-46a1-e465-0c862aa1f124"
      },
      "execution_count": 29,
      "outputs": [
        {
          "output_type": "stream",
          "name": "stdout",
          "text": [
            "(1, 15)\n"
          ]
        }
      ]
    },
    {
      "cell_type": "code",
      "source": [
        "np.expand_dims(a, axis=1)\n",
        "# np.expand_dims(a, axis=1).shape   \n",
        "\n"
      ],
      "metadata": {
        "colab": {
          "base_uri": "https://localhost:8080/"
        },
        "id": "hrPLEXd5R0Nr",
        "outputId": "15629745-c799-44f1-d33b-1437ce9ceeaf"
      },
      "execution_count": 30,
      "outputs": [
        {
          "output_type": "execute_result",
          "data": {
            "text/plain": [
              "(15, 1)"
            ]
          },
          "metadata": {},
          "execution_count": 30
        }
      ]
    },
    {
      "cell_type": "markdown",
      "source": [
        "# np.where\n",
        "The numpy.where() function returns the indices of elements in an input array where the given condition is satisfied.\n",
        "\n",
        "https://numpy.org/doc/stable/reference/generated/numpy.where.html"
      ],
      "metadata": {
        "id": "npLLANxdScCQ"
      }
    },
    {
      "cell_type": "code",
      "source": [
        " "
      ],
      "metadata": {
        "id": "vJtdJjyAR1_s"
      },
      "execution_count": null,
      "outputs": []
    }
  ]
}