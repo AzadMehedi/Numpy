{
  "nbformat": 4,
  "nbformat_minor": 0,
  "metadata": {
    "colab": {
      "provenance": [],
      "authorship_tag": "ABX9TyOaTRJWMwLli2I5vyK7tiBi",
      "include_colab_link": true
    },
    "kernelspec": {
      "name": "python3",
      "display_name": "Python 3"
    },
    "language_info": {
      "name": "python"
    }
  },
  "cells": [
    {
      "cell_type": "markdown",
      "metadata": {
        "id": "view-in-github",
        "colab_type": "text"
      },
      "source": [
        "<a href=\"https://colab.research.google.com/github/AzadMehedi/Numpy/blob/main/Advanced_Numpy.ipynb\" target=\"_parent\"><img src=\"https://colab.research.google.com/assets/colab-badge.svg\" alt=\"Open In Colab\"/></a>"
      ]
    },
    {
      "cell_type": "code",
      "execution_count": null,
      "metadata": {
        "id": "SArR4bqWONPa"
      },
      "outputs": [],
      "source": []
    },
    {
      "cell_type": "markdown",
      "source": [
        "# Numpy array vs Python list"
      ],
      "metadata": {
        "id": "6ENnFeazOTwl"
      }
    },
    {
      "cell_type": "code",
      "source": [
        "# Speed\n",
        "#list\n",
        "a = [i for i in range(10000000)]\n",
        "b = [i for i in range(10000000, 20000000)]\n",
        "\n",
        "c = []\n",
        "\n",
        "import time\n",
        "start = time.time()\n",
        "for i in range(len(a)):\n",
        "  c.append(a[i]+b[i]) \n",
        "print(time.time()-start)\n"
      ],
      "metadata": {
        "id": "sLtDb-6oOXMO",
        "colab": {
          "base_uri": "https://localhost:8080/"
        },
        "outputId": "7f4319a2-db9a-410e-b827-a656359ba2bb"
      },
      "execution_count": null,
      "outputs": [
        {
          "output_type": "stream",
          "name": "stdout",
          "text": [
            "2.4041149616241455\n"
          ]
        }
      ]
    },
    {
      "cell_type": "code",
      "source": [
        "# numpy\n",
        "import numpy as np\n",
        "a = np.arange(10000000)\n",
        "b = np.arange(10000000, 20000000)\n",
        "\n",
        "start = time.time()\n",
        "c = a+b\n",
        "print(time.time()-start)"
      ],
      "metadata": {
        "colab": {
          "base_uri": "https://localhost:8080/"
        },
        "id": "ViOHSYVaG0VJ",
        "outputId": "2a957ff6-96aa-4ae3-afc3-b529e7e07225"
      },
      "execution_count": null,
      "outputs": [
        {
          "output_type": "stream",
          "name": "stdout",
          "text": [
            "0.021371841430664062\n"
          ]
        }
      ]
    },
    {
      "cell_type": "code",
      "source": [
        "2.4041149616241455/0.021371841430664062\n",
        "# in this calculation numpy is 112 time faster than python list"
      ],
      "metadata": {
        "colab": {
          "base_uri": "https://localhost:8080/"
        },
        "id": "Qvp7pa2NHhUY",
        "outputId": "b724b94e-d820-4dff-dbdb-28c11307d441"
      },
      "execution_count": null,
      "outputs": [
        {
          "output_type": "execute_result",
          "data": {
            "text/plain": [
              "112.48983712628291"
            ]
          },
          "metadata": {},
          "execution_count": 6
        }
      ]
    },
    {
      "cell_type": "code",
      "source": [
        "import numpy as np\n",
        "import time\n",
        "import sys"
      ],
      "metadata": {
        "id": "fI3LkNfCHnW1"
      },
      "execution_count": 1,
      "outputs": []
    },
    {
      "cell_type": "code",
      "source": [
        "# memory in python list\n",
        "a = [i for i in range(10000000)]\n",
        "import sys\n",
        "sys.getsizeof(a)"
      ],
      "metadata": {
        "colab": {
          "base_uri": "https://localhost:8080/"
        },
        "id": "3iV2lkHXFhRQ",
        "outputId": "eb932f46-87ff-4408-8bc3-e5499b8ef885"
      },
      "execution_count": 2,
      "outputs": [
        {
          "output_type": "execute_result",
          "data": {
            "text/plain": [
              "81528048"
            ]
          },
          "metadata": {},
          "execution_count": 2
        }
      ]
    },
    {
      "cell_type": "code",
      "source": [
        "# memory in numpy\n",
        "a = np.arange(10000000, dtype=np.int8)  # can set dtype\n",
        "sys.getsizeof(a)"
      ],
      "metadata": {
        "colab": {
          "base_uri": "https://localhost:8080/"
        },
        "id": "smvix-hdF2ou",
        "outputId": "1c2cd8e1-0569-4b4f-ade1-06265e2c87bb"
      },
      "execution_count": 4,
      "outputs": [
        {
          "output_type": "execute_result",
          "data": {
            "text/plain": [
              "10000104"
            ]
          },
          "metadata": {},
          "execution_count": 4
        }
      ]
    },
    {
      "cell_type": "markdown",
      "source": [
        "# Advanced Indexing"
      ],
      "metadata": {
        "id": "X5Glx3VhGt_b"
      }
    },
    {
      "cell_type": "code",
      "source": [
        "# Normal Indexing and slicing\n",
        "a = np.arange(12).reshape(4,3)\n",
        "a "
      ],
      "metadata": {
        "colab": {
          "base_uri": "https://localhost:8080/"
        },
        "id": "zUQdOaPgGxtY",
        "outputId": "576b35fd-7ac3-4efb-9908-b4610a1f679d"
      },
      "execution_count": 5,
      "outputs": [
        {
          "output_type": "execute_result",
          "data": {
            "text/plain": [
              "array([[ 0,  1,  2],\n",
              "       [ 3,  4,  5],\n",
              "       [ 6,  7,  8],\n",
              "       [ 9, 10, 11]])"
            ]
          },
          "metadata": {},
          "execution_count": 5
        }
      ]
    },
    {
      "cell_type": "code",
      "source": [
        "# find out 4,5,7,8\n",
        "a[1:3,1:]"
      ],
      "metadata": {
        "colab": {
          "base_uri": "https://localhost:8080/"
        },
        "id": "xmzT9nG_G_cP",
        "outputId": "4d41756f-cec0-4321-976c-ac6ace504c16"
      },
      "execution_count": 8,
      "outputs": [
        {
          "output_type": "execute_result",
          "data": {
            "text/plain": [
              "array([[4, 5],\n",
              "       [7, 8]])"
            ]
          },
          "metadata": {},
          "execution_count": 8
        }
      ]
    },
    {
      "cell_type": "code",
      "source": [
        "# fancy Indexing\n",
        "# find out 1,3,4th row [ 0,  1,  2], [ 6,  7,  8], [ 9, 10, 11]\n",
        "\n",
        "a[[0,2,3]]  # passing row index through list"
      ],
      "metadata": {
        "colab": {
          "base_uri": "https://localhost:8080/"
        },
        "id": "YNy4IjSHIYMU",
        "outputId": "ca98bbe6-52ac-4fb0-f33f-314107b035db"
      },
      "execution_count": 13,
      "outputs": [
        {
          "output_type": "execute_result",
          "data": {
            "text/plain": [
              "array([[ 0,  1,  2],\n",
              "       [ 6,  7,  8],\n",
              "       [ 9, 10, 11]])"
            ]
          },
          "metadata": {},
          "execution_count": 13
        }
      ]
    },
    {
      "cell_type": "code",
      "source": [
        "a = np.arange(24).reshape(6,4)\n",
        "a "
      ],
      "metadata": {
        "colab": {
          "base_uri": "https://localhost:8080/"
        },
        "id": "6Z_SkLKoIt62",
        "outputId": "37792bee-d4d1-402e-b4e2-cb9c8ee025c3"
      },
      "execution_count": 15,
      "outputs": [
        {
          "output_type": "execute_result",
          "data": {
            "text/plain": [
              "array([[ 0,  1,  2,  3],\n",
              "       [ 4,  5,  6,  7],\n",
              "       [ 8,  9, 10, 11],\n",
              "       [12, 13, 14, 15],\n",
              "       [16, 17, 18, 19],\n",
              "       [20, 21, 22, 23]])"
            ]
          },
          "metadata": {},
          "execution_count": 15
        }
      ]
    },
    {
      "cell_type": "code",
      "source": [
        "# find out 1,3,4,6th row \n",
        "a[[0,2,3,5]]   #passing row index through list"
      ],
      "metadata": {
        "colab": {
          "base_uri": "https://localhost:8080/"
        },
        "id": "upMhZ12iJn-m",
        "outputId": "ca2d7965-1f37-4bbf-9114-b4f004a5ffbb"
      },
      "execution_count": 17,
      "outputs": [
        {
          "output_type": "execute_result",
          "data": {
            "text/plain": [
              "array([[ 0,  1,  2,  3],\n",
              "       [ 8,  9, 10, 11],\n",
              "       [12, 13, 14, 15],\n",
              "       [20, 21, 22, 23]])"
            ]
          },
          "metadata": {},
          "execution_count": 17
        }
      ]
    },
    {
      "cell_type": "code",
      "source": [
        "# find out 1,2,3rd column \n",
        "a[:,[0,1,2]]    # all rows, 0,1,2 index as columns"
      ],
      "metadata": {
        "colab": {
          "base_uri": "https://localhost:8080/"
        },
        "id": "NumKObDPJ_uJ",
        "outputId": "ebc1d9bd-62d7-4bf9-c10a-c40db65acc44"
      },
      "execution_count": 22,
      "outputs": [
        {
          "output_type": "execute_result",
          "data": {
            "text/plain": [
              "array([[ 0,  1,  2],\n",
              "       [ 4,  5,  6],\n",
              "       [ 8,  9, 10],\n",
              "       [12, 13, 14],\n",
              "       [16, 17, 18],\n",
              "       [20, 21, 22]])"
            ]
          },
          "metadata": {},
          "execution_count": 22
        }
      ]
    },
    {
      "cell_type": "code",
      "source": [
        "# Boolean Indexing\n",
        "import numpy as np\n",
        "a = np.random.randint(1,100,24).reshape(6,4)    # randint(start, end, how many number)\n",
        "a"
      ],
      "metadata": {
        "colab": {
          "base_uri": "https://localhost:8080/"
        },
        "id": "yzR9sNZWLNIB",
        "outputId": "2d6becc1-0129-4eb4-952a-76fd53673bd7"
      },
      "execution_count": 25,
      "outputs": [
        {
          "output_type": "execute_result",
          "data": {
            "text/plain": [
              "array([[31, 67, 60, 39],\n",
              "       [18, 30, 42, 25],\n",
              "       [74, 68, 66, 22],\n",
              "       [40, 55, 44, 69],\n",
              "       [88,  5, 93, 54],\n",
              "       [ 6, 28,  7, 10]])"
            ]
          },
          "metadata": {},
          "execution_count": 25
        }
      ]
    },
    {
      "cell_type": "code",
      "source": [
        "# find all numbers greater than 50\n",
        "a>50"
      ],
      "metadata": {
        "colab": {
          "base_uri": "https://localhost:8080/"
        },
        "id": "6beVLejtRFRW",
        "outputId": "5b89e1ed-6b7f-499b-e421-ed40bbdef470"
      },
      "execution_count": 26,
      "outputs": [
        {
          "output_type": "execute_result",
          "data": {
            "text/plain": [
              "array([[False,  True,  True, False],\n",
              "       [False, False, False, False],\n",
              "       [ True,  True,  True, False],\n",
              "       [False,  True, False,  True],\n",
              "       [ True, False,  True,  True],\n",
              "       [False, False, False, False]])"
            ]
          },
          "metadata": {},
          "execution_count": 26
        }
      ]
    },
    {
      "cell_type": "code",
      "source": [
        "a[a>50]"
      ],
      "metadata": {
        "colab": {
          "base_uri": "https://localhost:8080/"
        },
        "id": "JQufO6N5VRzl",
        "outputId": "6a037254-53a8-40b9-f260-502ab1afff12"
      },
      "execution_count": 27,
      "outputs": [
        {
          "output_type": "execute_result",
          "data": {
            "text/plain": [
              "array([67, 60, 74, 68, 66, 55, 69, 88, 93, 54])"
            ]
          },
          "metadata": {},
          "execution_count": 27
        }
      ]
    },
    {
      "cell_type": "code",
      "source": [
        "# find out even numbers\n",
        "a[a%2==0]"
      ],
      "metadata": {
        "colab": {
          "base_uri": "https://localhost:8080/"
        },
        "id": "IgIJJfnXVfUB",
        "outputId": "0d68a2a5-958f-47e9-ef18-4c9735096d1d"
      },
      "execution_count": 28,
      "outputs": [
        {
          "output_type": "execute_result",
          "data": {
            "text/plain": [
              "array([60, 18, 30, 42, 74, 68, 66, 22, 40, 44, 88, 54,  6, 28, 10])"
            ]
          },
          "metadata": {},
          "execution_count": 28
        }
      ]
    },
    {
      "cell_type": "code",
      "source": [
        "# find all numbers greater than 50 and are even\n",
        "a[(a>50) & (a%2==0)]   # when we work with boolean numbers we have to use bitwise and."
      ],
      "metadata": {
        "colab": {
          "base_uri": "https://localhost:8080/"
        },
        "id": "Dy0vErU0VseO",
        "outputId": "cea41a36-8c22-4308-d407-ae29f0637a77"
      },
      "execution_count": 31,
      "outputs": [
        {
          "output_type": "execute_result",
          "data": {
            "text/plain": [
              "array([60, 74, 68, 66, 88, 54])"
            ]
          },
          "metadata": {},
          "execution_count": 31
        }
      ]
    },
    {
      "cell_type": "code",
      "source": [
        "# find all numbers not divisible by 7\n",
        "a[a%7!=0] # or use a divisible operator '~'\n",
        "# a[~(a%7 == 0)]\n"
      ],
      "metadata": {
        "colab": {
          "base_uri": "https://localhost:8080/"
        },
        "id": "bAjdDTO_V8jJ",
        "outputId": "409eb38f-dde2-41ab-9bb7-90f2bd8b55fe"
      },
      "execution_count": 35,
      "outputs": [
        {
          "output_type": "execute_result",
          "data": {
            "text/plain": [
              "array([31, 67, 60, 39, 18, 30, 25, 74, 68, 66, 22, 40, 55, 44, 69, 88,  5,\n",
              "       93, 54,  6, 10])"
            ]
          },
          "metadata": {},
          "execution_count": 35
        }
      ]
    },
    {
      "cell_type": "markdown",
      "source": [
        "# Broadcasting\n",
        "\n",
        "The term broadcasting describes how NumPy treats arrays with different shapes during arithmetic operations.\n",
        "\n",
        "The smaller array is “broadcast” across the larger array so that they have compatible shapes."
      ],
      "metadata": {
        "id": "7078VnEXXhjg"
      }
    },
    {
      "cell_type": "code",
      "source": [],
      "metadata": {
        "colab": {
          "base_uri": "https://localhost:8080/"
        },
        "id": "-GZ_KVGGWifs",
        "outputId": "417d9e31-16cb-48f2-df40-fba38485e65b"
      },
      "execution_count": 34,
      "outputs": [
        {
          "output_type": "execute_result",
          "data": {
            "text/plain": [
              "array([31, 67, 60, 39, 18, 30, 25, 74, 68, 66, 22, 40, 55, 44, 69, 88,  5,\n",
              "       93, 54,  6, 10])"
            ]
          },
          "metadata": {},
          "execution_count": 34
        }
      ]
    },
    {
      "cell_type": "code",
      "source": [
        "# same type\n",
        "a = np.arange(6).reshape(2,3)\n",
        "b = np.arange(6,12).reshape(2,3)\n",
        "\n",
        "print(a)\n",
        "print(b)\n",
        "a+b"
      ],
      "metadata": {
        "colab": {
          "base_uri": "https://localhost:8080/"
        },
        "id": "9z94NIWaXWg1",
        "outputId": "6a31aad2-5428-4837-b2f5-0857efbe4687"
      },
      "execution_count": 37,
      "outputs": [
        {
          "output_type": "stream",
          "name": "stdout",
          "text": [
            "[[0 1 2]\n",
            " [3 4 5]]\n",
            "[[ 6  7  8]\n",
            " [ 9 10 11]]\n"
          ]
        },
        {
          "output_type": "execute_result",
          "data": {
            "text/plain": [
              "array([[ 6,  8, 10],\n",
              "       [12, 14, 16]])"
            ]
          },
          "metadata": {},
          "execution_count": 37
        }
      ]
    },
    {
      "cell_type": "code",
      "source": [
        "# different shape\n",
        "a = np.arange(6).reshape(2,3)\n",
        "b = np.arange(3).reshape(1,3)\n",
        "\n",
        "print(a)\n",
        "print(b)\n",
        "a+b"
      ],
      "metadata": {
        "colab": {
          "base_uri": "https://localhost:8080/"
        },
        "id": "Q-92F5zVbo2_",
        "outputId": "d1015e30-4c40-4156-fdd8-2a4137d9dd29"
      },
      "execution_count": 38,
      "outputs": [
        {
          "output_type": "stream",
          "name": "stdout",
          "text": [
            "[[0 1 2]\n",
            " [3 4 5]]\n",
            "[[0 1 2]]\n"
          ]
        },
        {
          "output_type": "execute_result",
          "data": {
            "text/plain": [
              "array([[0, 2, 4],\n",
              "       [3, 5, 7]])"
            ]
          },
          "metadata": {},
          "execution_count": 38
        }
      ]
    },
    {
      "cell_type": "markdown",
      "source": [
        "#### Broadcasting Rules\n",
        "\n",
        "**1. Make the two arrays have the same number of dimensions.**<br>\n",
        "- If the numbers of dimensions of the two arrays are different, add new dimensions with size 1 to the head of the array with the smaller dimension.<br>"
      ],
      "metadata": {
        "id": "1ukNcYeehBwm"
      }
    },
    {
      "cell_type": "markdown",
      "source": [
        "**2. Make each dimension of the two arrays the same size.**<br>\n",
        "- If the sizes of each dimension of the two arrays do not match, dimensions with size 1 are stretched to the size of the other array.\n",
        "- If there is a dimension whose size is not 1 in either of the two arrays, it cannot be broadcasted, and an error is raised."
      ],
      "metadata": {
        "id": "_s0rB6b3hC9s"
      }
    },
    {
      "cell_type": "markdown",
      "source": [
        "<img src = \"https://jakevdp.github.io/PythonDataScienceHandbook/figures/02.05-broadcasting.png\">"
      ],
      "metadata": {
        "id": "HSmnjdG2hKjH"
      }
    },
    {
      "cell_type": "code",
      "source": [
        "# More example\n",
        "a = np.arange(12).reshape(4,3)\n",
        "b = np.arange(3)\n",
        "\n",
        "print(a)\n",
        "print(b)\n",
        "\n",
        "print(a+b)"
      ],
      "metadata": {
        "colab": {
          "base_uri": "https://localhost:8080/"
        },
        "id": "8c_yOXDmb-BG",
        "outputId": "5d934bb4-b491-4ed0-dd03-69ce63d45c58"
      },
      "execution_count": 40,
      "outputs": [
        {
          "output_type": "stream",
          "name": "stdout",
          "text": [
            "[[ 0  1  2]\n",
            " [ 3  4  5]\n",
            " [ 6  7  8]\n",
            " [ 9 10 11]]\n",
            "[0 1 2]\n",
            "[[ 0  2  4]\n",
            " [ 3  5  7]\n",
            " [ 6  8 10]\n",
            " [ 9 11 13]]\n"
          ]
        }
      ]
    },
    {
      "cell_type": "code",
      "source": [
        "a = np.arange(12).reshape(3,4)\n",
        "b = np.arange(3)\n",
        "\n",
        "print(a)\n",
        "print(b)\n",
        "\n",
        "print(a+b)"
      ],
      "metadata": {
        "colab": {
          "base_uri": "https://localhost:8080/",
          "height": 271
        },
        "id": "cBuLqqKj1vEO",
        "outputId": "f4f29072-11ab-4c99-b778-05ac71724f01"
      },
      "execution_count": 41,
      "outputs": [
        {
          "output_type": "stream",
          "name": "stdout",
          "text": [
            "[[ 0  1  2  3]\n",
            " [ 4  5  6  7]\n",
            " [ 8  9 10 11]]\n",
            "[0 1 2]\n"
          ]
        },
        {
          "output_type": "error",
          "ename": "ValueError",
          "evalue": "ignored",
          "traceback": [
            "\u001b[0;31m---------------------------------------------------------------------------\u001b[0m",
            "\u001b[0;31mValueError\u001b[0m                                Traceback (most recent call last)",
            "\u001b[0;32m<ipython-input-41-fa6cbb589166>\u001b[0m in \u001b[0;36m<module>\u001b[0;34m\u001b[0m\n\u001b[1;32m      5\u001b[0m \u001b[0mprint\u001b[0m\u001b[0;34m(\u001b[0m\u001b[0mb\u001b[0m\u001b[0;34m)\u001b[0m\u001b[0;34m\u001b[0m\u001b[0;34m\u001b[0m\u001b[0m\n\u001b[1;32m      6\u001b[0m \u001b[0;34m\u001b[0m\u001b[0m\n\u001b[0;32m----> 7\u001b[0;31m \u001b[0mprint\u001b[0m\u001b[0;34m(\u001b[0m\u001b[0ma\u001b[0m\u001b[0;34m+\u001b[0m\u001b[0mb\u001b[0m\u001b[0;34m)\u001b[0m\u001b[0;34m\u001b[0m\u001b[0;34m\u001b[0m\u001b[0m\n\u001b[0m",
            "\u001b[0;31mValueError\u001b[0m: operands could not be broadcast together with shapes (3,4) (3,) "
          ]
        }
      ]
    },
    {
      "cell_type": "code",
      "source": [
        "a = np.arange(3).reshape(1,3)\n",
        "b = np.arange(3).reshape(3,1)\n",
        "\n",
        "print(a)\n",
        "print(b)\n",
        "\n",
        "print(a+b)"
      ],
      "metadata": {
        "colab": {
          "base_uri": "https://localhost:8080/"
        },
        "id": "JHX58Naw2OEm",
        "outputId": "212dc5ce-89d4-47b3-f99f-25b409400244"
      },
      "execution_count": 42,
      "outputs": [
        {
          "output_type": "stream",
          "name": "stdout",
          "text": [
            "[[0 1 2]]\n",
            "[[0]\n",
            " [1]\n",
            " [2]]\n",
            "[[0 1 2]\n",
            " [1 2 3]\n",
            " [2 3 4]]\n"
          ]
        }
      ]
    },
    {
      "cell_type": "code",
      "source": [
        "a = np.arange(3).reshape(1,3)\n",
        "b = np.arange(4).reshape(4,1)\n",
        "\n",
        "print(a)\n",
        "print(b)\n",
        "\n",
        "print(a+b)"
      ],
      "metadata": {
        "colab": {
          "base_uri": "https://localhost:8080/"
        },
        "id": "NLTzmMZG21pu",
        "outputId": "0b01ef11-488d-40e4-c4cc-67ae5ce455f3"
      },
      "execution_count": 44,
      "outputs": [
        {
          "output_type": "stream",
          "name": "stdout",
          "text": [
            "[[0 1 2]]\n",
            "[[0]\n",
            " [1]\n",
            " [2]\n",
            " [3]]\n",
            "[[0 1 2]\n",
            " [1 2 3]\n",
            " [2 3 4]\n",
            " [3 4 5]]\n"
          ]
        }
      ]
    },
    {
      "cell_type": "code",
      "source": [
        "a = np.array([1])  # shape - (1,1)\n",
        "b = np.arange(4).reshape(2,2)   # shape - (2,2)\n",
        "\n",
        "print(a)\n",
        "print(b)\n",
        "print(a+b)\n"
      ],
      "metadata": {
        "colab": {
          "base_uri": "https://localhost:8080/"
        },
        "id": "XItiE3oH23q9",
        "outputId": "00c3006f-95c6-45b4-c344-c1bbff1a9131"
      },
      "execution_count": 46,
      "outputs": [
        {
          "output_type": "stream",
          "name": "stdout",
          "text": [
            "[1]\n",
            "[[0 1]\n",
            " [2 3]]\n",
            "[[1 2]\n",
            " [3 4]]\n"
          ]
        }
      ]
    },
    {
      "cell_type": "code",
      "source": [
        "a = np.arange(12).reshape(3,4)\n",
        "b = np.arange(12).reshape(4,3)\n",
        "print(a)\n",
        "print(b) \n",
        "\n",
        "print(a+b)"
      ],
      "metadata": {
        "colab": {
          "base_uri": "https://localhost:8080/",
          "height": 323
        },
        "id": "WaBJjWvX4igD",
        "outputId": "ec9691e3-f7b1-4b96-93c3-f93696d62a23"
      },
      "execution_count": 49,
      "outputs": [
        {
          "output_type": "stream",
          "name": "stdout",
          "text": [
            "[[ 0  1  2  3]\n",
            " [ 4  5  6  7]\n",
            " [ 8  9 10 11]]\n",
            "[[ 0  1  2]\n",
            " [ 3  4  5]\n",
            " [ 6  7  8]\n",
            " [ 9 10 11]]\n"
          ]
        },
        {
          "output_type": "error",
          "ename": "ValueError",
          "evalue": "ignored",
          "traceback": [
            "\u001b[0;31m---------------------------------------------------------------------------\u001b[0m",
            "\u001b[0;31mValueError\u001b[0m                                Traceback (most recent call last)",
            "\u001b[0;32m<ipython-input-49-4de635293897>\u001b[0m in \u001b[0;36m<module>\u001b[0;34m\u001b[0m\n\u001b[1;32m      4\u001b[0m \u001b[0mprint\u001b[0m\u001b[0;34m(\u001b[0m\u001b[0mb\u001b[0m\u001b[0;34m)\u001b[0m\u001b[0;34m\u001b[0m\u001b[0;34m\u001b[0m\u001b[0m\n\u001b[1;32m      5\u001b[0m \u001b[0;34m\u001b[0m\u001b[0m\n\u001b[0;32m----> 6\u001b[0;31m \u001b[0mprint\u001b[0m\u001b[0;34m(\u001b[0m\u001b[0ma\u001b[0m\u001b[0;34m+\u001b[0m\u001b[0mb\u001b[0m\u001b[0;34m)\u001b[0m\u001b[0;34m\u001b[0m\u001b[0;34m\u001b[0m\u001b[0m\n\u001b[0m",
            "\u001b[0;31mValueError\u001b[0m: operands could not be broadcast together with shapes (3,4) (4,3) "
          ]
        }
      ]
    },
    {
      "cell_type": "code",
      "source": [
        "a = np.arange(12).reshape(4,4)\n",
        "b = np.arange(12).reshape(2,2)\n",
        "print(a)\n",
        "print(b) \n",
        "\n",
        "print(a+b)"
      ],
      "metadata": {
        "colab": {
          "base_uri": "https://localhost:8080/",
          "height": 236
        },
        "id": "QdNNRZoI5-Rz",
        "outputId": "dcc7a423-c894-443f-d8f2-85dcdd48bcf6"
      },
      "execution_count": 50,
      "outputs": [
        {
          "output_type": "error",
          "ename": "ValueError",
          "evalue": "ignored",
          "traceback": [
            "\u001b[0;31m---------------------------------------------------------------------------\u001b[0m",
            "\u001b[0;31mValueError\u001b[0m                                Traceback (most recent call last)",
            "\u001b[0;32m<ipython-input-50-960ff4bd3069>\u001b[0m in \u001b[0;36m<module>\u001b[0;34m\u001b[0m\n\u001b[0;32m----> 1\u001b[0;31m \u001b[0ma\u001b[0m \u001b[0;34m=\u001b[0m \u001b[0mnp\u001b[0m\u001b[0;34m.\u001b[0m\u001b[0marange\u001b[0m\u001b[0;34m(\u001b[0m\u001b[0;36m12\u001b[0m\u001b[0;34m)\u001b[0m\u001b[0;34m.\u001b[0m\u001b[0mreshape\u001b[0m\u001b[0;34m(\u001b[0m\u001b[0;36m4\u001b[0m\u001b[0;34m,\u001b[0m\u001b[0;36m4\u001b[0m\u001b[0;34m)\u001b[0m\u001b[0;34m\u001b[0m\u001b[0;34m\u001b[0m\u001b[0m\n\u001b[0m\u001b[1;32m      2\u001b[0m \u001b[0mb\u001b[0m \u001b[0;34m=\u001b[0m \u001b[0mnp\u001b[0m\u001b[0;34m.\u001b[0m\u001b[0marange\u001b[0m\u001b[0;34m(\u001b[0m\u001b[0;36m12\u001b[0m\u001b[0;34m)\u001b[0m\u001b[0;34m.\u001b[0m\u001b[0mreshape\u001b[0m\u001b[0;34m(\u001b[0m\u001b[0;36m2\u001b[0m\u001b[0;34m,\u001b[0m\u001b[0;36m2\u001b[0m\u001b[0;34m)\u001b[0m\u001b[0;34m\u001b[0m\u001b[0;34m\u001b[0m\u001b[0m\n\u001b[1;32m      3\u001b[0m \u001b[0mprint\u001b[0m\u001b[0;34m(\u001b[0m\u001b[0ma\u001b[0m\u001b[0;34m)\u001b[0m\u001b[0;34m\u001b[0m\u001b[0;34m\u001b[0m\u001b[0m\n\u001b[1;32m      4\u001b[0m \u001b[0mprint\u001b[0m\u001b[0;34m(\u001b[0m\u001b[0mb\u001b[0m\u001b[0;34m)\u001b[0m\u001b[0;34m\u001b[0m\u001b[0;34m\u001b[0m\u001b[0m\n\u001b[1;32m      5\u001b[0m \u001b[0;34m\u001b[0m\u001b[0m\n",
            "\u001b[0;31mValueError\u001b[0m: cannot reshape array of size 12 into shape (4,4)"
          ]
        }
      ]
    },
    {
      "cell_type": "markdown",
      "source": [
        "# Working with mathematical formulas"
      ],
      "metadata": {
        "id": "Rbv2vlDW763I"
      }
    },
    {
      "cell_type": "code",
      "source": [
        "import numpy as np\n"
      ],
      "metadata": {
        "id": "GdA6UWPc6kQO"
      },
      "execution_count": 1,
      "outputs": []
    },
    {
      "cell_type": "code",
      "source": [
        "# sigmoid"
      ],
      "metadata": {
        "id": "3-4lDvVQ8pMZ"
      },
      "execution_count": 2,
      "outputs": []
    },
    {
      "cell_type": "markdown",
      "source": [
        "![image.png](data:image/png;base64,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)"
      ],
      "metadata": {
        "id": "5a-hHRs-9K_X"
      }
    },
    {
      "cell_type": "code",
      "source": [
        "def sigmoid(array):\n",
        "  return 1/(1+np.exp(-(array)))\n",
        "\n",
        "a = np.arange(10)\n",
        "sigmoid(a)"
      ],
      "metadata": {
        "colab": {
          "base_uri": "https://localhost:8080/"
        },
        "id": "0nOgP7lw9KGi",
        "outputId": "d6613c89-bfa6-4c0b-df11-aed931269523"
      },
      "execution_count": 4,
      "outputs": [
        {
          "output_type": "execute_result",
          "data": {
            "text/plain": [
              "array([0.5       , 0.73105858, 0.88079708, 0.95257413, 0.98201379,\n",
              "       0.99330715, 0.99752738, 0.99908895, 0.99966465, 0.99987661])"
            ]
          },
          "metadata": {},
          "execution_count": 4
        }
      ]
    },
    {
      "cell_type": "code",
      "source": [
        "# Mean squared function"
      ],
      "metadata": {
        "id": "8iZ-E6-v9KKd"
      },
      "execution_count": 8,
      "outputs": []
    },
    {
      "cell_type": "markdown",
      "source": [
        "![image.png](data:image/png;base64,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)"
      ],
      "metadata": {
        "id": "Ydmqm8_dB5K8"
      }
    },
    {
      "cell_type": "code",
      "source": [
        "actual = np.random.randint(1,50,25)\n",
        "predicted = np.random.randint(1,50,25)\n",
        "\n",
        "def mse(actual, predicted):\n",
        "  return np.mean((actual-predicted)**2)\n",
        "\n",
        "mse(actual, predicted)"
      ],
      "metadata": {
        "colab": {
          "base_uri": "https://localhost:8080/"
        },
        "id": "a-kQ_tBi9Jfi",
        "outputId": "f37bfe3b-b17f-477f-a38c-26720b7da2be"
      },
      "execution_count": 12,
      "outputs": [
        {
          "output_type": "execute_result",
          "data": {
            "text/plain": [
              "439.36"
            ]
          },
          "metadata": {},
          "execution_count": 12
        }
      ]
    },
    {
      "cell_type": "code",
      "source": [
        "# binary cross entropy\n"
      ],
      "metadata": {
        "id": "IgoxJYUaA7h4"
      },
      "execution_count": 9,
      "outputs": []
    }
  ]
}